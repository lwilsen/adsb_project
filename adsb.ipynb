{
 "cells": [
  {
   "cell_type": "code",
   "execution_count": 49,
   "metadata": {},
   "outputs": [
    {
     "name": "stdout",
     "output_type": "stream",
     "text": [
      "2024-10-01 19:41:01.085423+00:00: Data fetched and stored!\n"
     ]
    }
   ],
   "source": [
    "import requests\n",
    "import os\n",
    "import time\n",
    "from datetime import datetime, timezone\n",
    "import pandas as pd\n",
    "import schedule\n",
    "\n",
    "RAPID_API_KEY = os.getenv(\"RAPID_API_KEY\")\n",
    "\n",
    "API_HOST = \"adsbexchange-com1.p.rapidapi.com\"\n",
    "\n",
    "URL_TEMP = \"https://{HOST}/v2/lat/{LAT}/lon/{LONG}/dist/{DIST}/\"\n",
    "\n",
    "headers = {\n",
    "    \"x-rapidapi-key\":RAPID_API_KEY,\n",
    "    \"x-rapidapi-host\":API_HOST\n",
    "}\n",
    "\n",
    "# Define area of interest\n",
    "\n",
    "LATITUDE = 27.842490\n",
    "LONGITUDE = -82.503222\n",
    "DISTANCE = 50\n",
    "\n",
    "#initialize database to get data\n",
    "\n",
    "DATA_DIR = \"adsb_data\"\n",
    "os.makedirs(DATA_DIR, exist_ok=True) #creates new directory if needed, otherwise does nothing\n",
    "\n",
    "#create a function to get and store data\n",
    "\n",
    "def get_n_store():\n",
    "    \"\"\"Construct API call\"\"\"\n",
    "    api_url = URL_TEMP.format(HOST = API_HOST, LAT = LATITUDE, LONG = LONGITUDE, DIST = DISTANCE)\n",
    "\n",
    "    headers = {\n",
    "        \"x-rapidapi-key\":RAPID_API_KEY,\n",
    "        \"x-rapidapi-hooost\":API_HOST\n",
    "    }\n",
    "\n",
    "    focus_features = ['hex', 'flight', 't', 'category', 'alt_baro', 'alt_geom', 'gs',\n",
    "       'track', 'baro_rate','geom_rate', 'emergency', 'lat', 'lon',\n",
    "       'nac_p', 'nac_v','alert','seen', 'nav_altitude_mcp',\n",
    "       'nav_heading', 'true_heading']\n",
    "\n",
    "    try:\n",
    "        response = requests.get(api_url,headers=headers)\n",
    "        #Parse response\n",
    "        adsb_data = response.json().get(\"ac\",[])\n",
    "\n",
    "        if not adsb_data:\n",
    "            return(f\"{datetime.now(timezone.utc)}: No data returned.\")\n",
    "        \"\"\"Try to get only the features we're interested in, and make sure that \n",
    "        there are a correct number of columns.\"\"\"\n",
    "        \n",
    "        try:\n",
    "            df = pd.DataFrame(adsb_data).loc[:, focus_features]\n",
    "        \n",
    "        except Exception as e:\n",
    "            print(f\"Feature selection error: {e}\")\n",
    "\n",
    "        if not df.shape[1] == 20:\n",
    "            return(\"df.shape[1] != 20\")\n",
    "        \n",
    "        df['timestamp'] = datetime.now(timezone.utc)\n",
    "        df['mph'] = (df['gs'] * 1.151)\n",
    "\n",
    "        file_path = os.path.join(DATA_DIR, \"adsb_data.csv\")\n",
    "\n",
    "        if not os.path.isfile(file_path):\n",
    "            df.to_csv(file_path, index=False, mode=\"w\",header=True)\n",
    "        else:\n",
    "            df.to_csv(file_path, index=False, mode=\"a\", header=False)\n",
    "\n",
    "        print(f\"{datetime.now(timezone.utc)}: Data fetched and stored!\")\n",
    "\n",
    "\n",
    "    except Exception as e:\n",
    "        #returns the error with the time it occurred\n",
    "        print(f'{datetime.now(timezone.utc)}: An error occured: ({e})')\n",
    "\n",
    "'''Schedule function to run every 5 minutes (equates to 288 calls/24hr)'''\n",
    "\n",
    "schedule.every(5).minutes.do(get_n_store)\n",
    "\n",
    "print(f\"{datetime.now(timezone.utc)}: Getting Data!\")\n",
    "\n",
    "while True:\n",
    "    schedule.run_pending()\n",
    "    time.sleep(1)"
   ]
  },
  {
   "cell_type": "code",
   "execution_count": 51,
   "metadata": {},
   "outputs": [
    {
     "data": {
      "text/plain": [
       "553.5159"
      ]
     },
     "execution_count": 51,
     "metadata": {},
     "output_type": "execute_result"
    }
   ],
   "source": [
    "read = pd.read_csv(\"adsb_data/adsb_data.csv\")\n",
    "\n",
    "read.columns\n",
    "\n",
    "read['mph'].max()"
   ]
  }
 ],
 "metadata": {
  "kernelspec": {
   "display_name": "test_venv",
   "language": "python",
   "name": "test_venv"
  },
  "language_info": {
   "codemirror_mode": {
    "name": "ipython",
    "version": 3
   },
   "file_extension": ".py",
   "mimetype": "text/x-python",
   "name": "python",
   "nbconvert_exporter": "python",
   "pygments_lexer": "ipython3",
   "version": "3.11.9"
  }
 },
 "nbformat": 4,
 "nbformat_minor": 2
}
