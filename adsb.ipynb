{
 "cells": [
  {
   "cell_type": "code",
   "execution_count": 1,
   "metadata": {},
   "outputs": [],
   "source": [
    "import requests\n",
    "import os\n",
    "import time\n",
    "from datetime import datetime, timezone\n",
    "import pandas as pd\n",
    "import schedule\n",
    "\n",
    "RAPID_API_KEY = os.getenv(\"RAPID_API_KEY\")\n",
    "\n",
    "API_HOST = \"adsbexchange-com1.p.rapidapi.com\"\n",
    "\n",
    "URL_TEMP = \"https://{HOST}/v2/lat/{LAT}/lon/{LONG}/dist/{DIST}/\"\n",
    "\n",
    "headers = {\n",
    "    \"x-rapidapi-key\":RAPID_API_KEY,\n",
    "    \"x-rapidapi-host\":API_HOST\n",
    "}\n",
    "\n",
    "# Define area of interest\n",
    "\n",
    "LATITUDE = 27.842490\n",
    "LONGITUDE = -82.503222\n",
    "DISTANCE = 50\n",
    "\n",
    "#initialize database to get data\n",
    "\n",
    "DATA_DIR = \"adsb_data\"\n",
    "os.makedirs(DATA_DIR, exist_ok=True) #creates new directory if needed, otherwise does nothing\n",
    "\n",
    "#Initialize databse for data with differing number of columns, (or that doesn't fit with focus features)\n",
    "BAD_DATA_DIR = \"adsb_data/weird_data\"\n",
    "os.makedirs(BAD_DATA_DIR, exist_ok=True)\n",
    "\n",
    "#create a function to get and store data\n",
    "\n",
    "def get_n_store():\n",
    "    \"\"\"Construct API call\"\"\"\n",
    "    api_url = URL_TEMP.format(HOST = API_HOST, LAT = LATITUDE, LONG = LONGITUDE, DIST = DISTANCE)\n",
    "\n",
    "    headers = {\n",
    "        \"x-rapidapi-key\":RAPID_API_KEY,\n",
    "        \"x-rapidapi-hooost\":API_HOST\n",
    "    }\n",
    "\n",
    "    focus_features = ['hex', 'flight', 't', 'category', 'alt_baro', 'alt_geom', 'gs',\n",
    "       'track', 'baro_rate','geom_rate', 'emergency', 'lat', 'lon',\n",
    "       'nac_p', 'nac_v','alert','seen', 'nav_altitude_mcp',\n",
    "       'nav_heading', 'true_heading']\n",
    "\n",
    "    try:\n",
    "        response = requests.get(api_url,headers=headers)\n",
    "        #Parse response\n",
    "        adsb_data = response.json().get(\"ac\",[])\n",
    "\n",
    "        if not adsb_data:\n",
    "            return(f\"{datetime.now(timezone.utc)}: No data returned.\")\n",
    "        \"\"\"Try to get only the features we're interested in, and make sure that \n",
    "        there are a correct number of columns.\"\"\"\n",
    "        \n",
    "        try:\n",
    "            df = pd.DataFrame(adsb_data).loc[:, focus_features]\n",
    "            bad_data_path = os.path.join(BAD_DATA_DIR, \"bad_data.csv\")\n",
    "            \n",
    "            if (df.columns != focus_features).all():\n",
    "                #Don't want to waste an api call on data that's missing a column or two\n",
    "                df_weird = pd.DataFrame(adsb_data)\n",
    "                df_weird['timestamp'] = datetime.now(timezone.utc)\n",
    "\n",
    "                if not os.path.isfile(bad_data_path):\n",
    "                    df_weird.to_csv(bad_data_path, index=False, mode=\"w\",header=True)\n",
    "                else:\n",
    "                    df_weird.to_csv(bad_data_path, index=False, mode=\"a\", header=False)\n",
    "\n",
    "        except Exception as e:\n",
    "            print(f\"Feature selection error: {e}\")\n",
    "\n",
    "        if not df.shape[1] == 20:\n",
    "            return(\"df.shape[1] != 20\")\n",
    "        \n",
    "        df['timestamp'] = datetime.now(timezone.utc)\n",
    "        df['mph'] = (df['gs'] * 1.151)\n",
    "\n",
    "        file_path = os.path.join(DATA_DIR, \"adsb_data.csv\")\n",
    "\n",
    "        if not os.path.isfile(file_path):\n",
    "            df.to_csv(file_path, index=False, mode=\"w\",header=True)\n",
    "        else:\n",
    "            df.to_csv(file_path, index=False, mode=\"a\", header=False)\n",
    "\n",
    "        print(f\"{datetime.now(timezone.utc)}: Data fetched and stored!\")\n",
    "\n",
    "\n",
    "    except Exception as e:\n",
    "        #returns the error with the time it occurred\n",
    "        return(f'{datetime.now(timezone.utc)}: An error occured: ({e})')"
   ]
  },
  {
   "cell_type": "code",
   "execution_count": 4,
   "metadata": {},
   "outputs": [
    {
     "data": {
      "text/plain": [
       "13877"
      ]
     },
     "execution_count": 4,
     "metadata": {},
     "output_type": "execute_result"
    }
   ],
   "source": [
    "file = pd.read_csv(\"./adsb_data/adsb_data.csv\")"
   ]
  },
  {
   "cell_type": "code",
   "execution_count": 12,
   "metadata": {},
   "outputs": [
    {
     "name": "stdout",
     "output_type": "stream",
     "text": [
      "13877\n"
     ]
    },
    {
     "ename": "ValueError",
     "evalue": "Cannot mask with non-boolean array containing NA / NaN values",
     "output_type": "error",
     "traceback": [
      "\u001b[0;31m---------------------------------------------------------------------------\u001b[0m",
      "\u001b[0;31mValueError\u001b[0m                                Traceback (most recent call last)",
      "Cell \u001b[0;32mIn[12], line 4\u001b[0m\n\u001b[1;32m      2\u001b[0m file\u001b[38;5;241m.\u001b[39mhead()\n\u001b[1;32m      3\u001b[0m file[\u001b[38;5;124m'\u001b[39m\u001b[38;5;124mcategory\u001b[39m\u001b[38;5;124m'\u001b[39m]\u001b[38;5;241m.\u001b[39munique()\n\u001b[0;32m----> 4\u001b[0m \u001b[43mfile\u001b[49m\u001b[43m[\u001b[49m\u001b[43mfile\u001b[49m\u001b[43m[\u001b[49m\u001b[38;5;124;43m'\u001b[39;49m\u001b[38;5;124;43mcategory\u001b[39;49m\u001b[38;5;124;43m'\u001b[39;49m\u001b[43m]\u001b[49m\u001b[38;5;241;43m.\u001b[39;49m\u001b[43mstr\u001b[49m\u001b[38;5;241;43m.\u001b[39;49m\u001b[43mstartswith\u001b[49m\u001b[43m(\u001b[49m\u001b[38;5;124;43m\"\u001b[39;49m\u001b[38;5;124;43mA\u001b[39;49m\u001b[38;5;124;43m\"\u001b[39;49m\u001b[43m)\u001b[49m\u001b[43m]\u001b[49m\n",
      "File \u001b[0;32m~/anaconda3/lib/python3.11/site-packages/pandas/core/frame.py:3795\u001b[0m, in \u001b[0;36mDataFrame.__getitem__\u001b[0;34m(self, key)\u001b[0m\n\u001b[1;32m   3792\u001b[0m     \u001b[38;5;28;01mreturn\u001b[39;00m \u001b[38;5;28mself\u001b[39m\u001b[38;5;241m.\u001b[39mwhere(key)\n\u001b[1;32m   3794\u001b[0m \u001b[38;5;66;03m# Do we have a (boolean) 1d indexer?\u001b[39;00m\n\u001b[0;32m-> 3795\u001b[0m \u001b[38;5;28;01mif\u001b[39;00m \u001b[43mcom\u001b[49m\u001b[38;5;241;43m.\u001b[39;49m\u001b[43mis_bool_indexer\u001b[49m\u001b[43m(\u001b[49m\u001b[43mkey\u001b[49m\u001b[43m)\u001b[49m:\n\u001b[1;32m   3796\u001b[0m     \u001b[38;5;28;01mreturn\u001b[39;00m \u001b[38;5;28mself\u001b[39m\u001b[38;5;241m.\u001b[39m_getitem_bool_array(key)\n\u001b[1;32m   3798\u001b[0m \u001b[38;5;66;03m# We are left with two options: a single key, and a collection of keys,\u001b[39;00m\n\u001b[1;32m   3799\u001b[0m \u001b[38;5;66;03m# We interpret tuples as collections only for non-MultiIndex\u001b[39;00m\n",
      "File \u001b[0;32m~/anaconda3/lib/python3.11/site-packages/pandas/core/common.py:135\u001b[0m, in \u001b[0;36mis_bool_indexer\u001b[0;34m(key)\u001b[0m\n\u001b[1;32m    131\u001b[0m     na_msg \u001b[38;5;241m=\u001b[39m \u001b[38;5;124m\"\u001b[39m\u001b[38;5;124mCannot mask with non-boolean array containing NA / NaN values\u001b[39m\u001b[38;5;124m\"\u001b[39m\n\u001b[1;32m    132\u001b[0m     \u001b[38;5;28;01mif\u001b[39;00m lib\u001b[38;5;241m.\u001b[39minfer_dtype(key_array) \u001b[38;5;241m==\u001b[39m \u001b[38;5;124m\"\u001b[39m\u001b[38;5;124mboolean\u001b[39m\u001b[38;5;124m\"\u001b[39m \u001b[38;5;129;01mand\u001b[39;00m isna(key_array)\u001b[38;5;241m.\u001b[39many():\n\u001b[1;32m    133\u001b[0m         \u001b[38;5;66;03m# Don't raise on e.g. [\"A\", \"B\", np.nan], see\u001b[39;00m\n\u001b[1;32m    134\u001b[0m         \u001b[38;5;66;03m#  test_loc_getitem_list_of_labels_categoricalindex_with_na\u001b[39;00m\n\u001b[0;32m--> 135\u001b[0m         \u001b[38;5;28;01mraise\u001b[39;00m \u001b[38;5;167;01mValueError\u001b[39;00m(na_msg)\n\u001b[1;32m    136\u001b[0m     \u001b[38;5;28;01mreturn\u001b[39;00m \u001b[38;5;28;01mFalse\u001b[39;00m\n\u001b[1;32m    137\u001b[0m \u001b[38;5;28;01mreturn\u001b[39;00m \u001b[38;5;28;01mTrue\u001b[39;00m\n",
      "\u001b[0;31mValueError\u001b[0m: Cannot mask with non-boolean array containing NA / NaN values"
     ]
    }
   ],
   "source": [
    "print(len(file))\n",
    "file.head()\n",
    "file['category'].unique()\n"
   ]
  }
 ],
 "metadata": {
  "kernelspec": {
   "display_name": "test_venv",
   "language": "python",
   "name": "test_venv"
  },
  "language_info": {
   "codemirror_mode": {
    "name": "ipython",
    "version": 3
   },
   "file_extension": ".py",
   "mimetype": "text/x-python",
   "name": "python",
   "nbconvert_exporter": "python",
   "pygments_lexer": "ipython3",
   "version": "3.11.9"
  }
 },
 "nbformat": 4,
 "nbformat_minor": 2
}
