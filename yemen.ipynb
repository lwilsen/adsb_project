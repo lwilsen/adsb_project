{
 "cells": [
  {
   "cell_type": "code",
   "execution_count": 2,
   "metadata": {},
   "outputs": [],
   "source": [
    "import pandas as pd"
   ]
  },
  {
   "cell_type": "code",
   "execution_count": 3,
   "metadata": {},
   "outputs": [],
   "source": [
    "all_data = pd.read_csv(\"2023-08-28-2024-08-23.csv\")\n"
   ]
  },
  {
   "cell_type": "code",
   "execution_count": 8,
   "metadata": {},
   "outputs": [
    {
     "name": "stdout",
     "output_type": "stream",
     "text": [
      "On 23 August 2024, Turkish army warplanes caried out airstrikes targeting 5 unspecified villages in Jabal Matin region (Al Amadiya, Duhok), causing significant fires. Casualties unknown.\n"
     ]
    },
    {
     "data": {
      "text/html": [
       "<div>\n",
       "<style scoped>\n",
       "    .dataframe tbody tr th:only-of-type {\n",
       "        vertical-align: middle;\n",
       "    }\n",
       "\n",
       "    .dataframe tbody tr th {\n",
       "        vertical-align: top;\n",
       "    }\n",
       "\n",
       "    .dataframe thead th {\n",
       "        text-align: right;\n",
       "    }\n",
       "</style>\n",
       "<table border=\"1\" class=\"dataframe\">\n",
       "  <thead>\n",
       "    <tr style=\"text-align: right;\">\n",
       "      <th></th>\n",
       "      <th>event_id_cnty</th>\n",
       "      <th>event_date</th>\n",
       "      <th>year</th>\n",
       "      <th>time_precision</th>\n",
       "      <th>disorder_type</th>\n",
       "      <th>event_type</th>\n",
       "      <th>sub_event_type</th>\n",
       "      <th>actor1</th>\n",
       "      <th>assoc_actor_1</th>\n",
       "      <th>inter1</th>\n",
       "      <th>...</th>\n",
       "      <th>location</th>\n",
       "      <th>latitude</th>\n",
       "      <th>longitude</th>\n",
       "      <th>geo_precision</th>\n",
       "      <th>source</th>\n",
       "      <th>source_scale</th>\n",
       "      <th>notes</th>\n",
       "      <th>fatalities</th>\n",
       "      <th>tags</th>\n",
       "      <th>timestamp</th>\n",
       "    </tr>\n",
       "  </thead>\n",
       "  <tbody>\n",
       "    <tr>\n",
       "      <th>0</th>\n",
       "      <td>IRQ58256</td>\n",
       "      <td>23 August 2024</td>\n",
       "      <td>2024</td>\n",
       "      <td>1</td>\n",
       "      <td>Political violence</td>\n",
       "      <td>Explosions/Remote violence</td>\n",
       "      <td>Air/drone strike</td>\n",
       "      <td>Military Forces of Turkey (2016-)</td>\n",
       "      <td>NaN</td>\n",
       "      <td>8</td>\n",
       "      <td>...</td>\n",
       "      <td>Jabal Matin</td>\n",
       "      <td>37.1071</td>\n",
       "      <td>43.5172</td>\n",
       "      <td>2</td>\n",
       "      <td>Baghdad Today; ROJ News</td>\n",
       "      <td>National-Regional</td>\n",
       "      <td>On 23 August 2024, Turkish army warplanes cari...</td>\n",
       "      <td>0</td>\n",
       "      <td>NaN</td>\n",
       "      <td>1724706546</td>\n",
       "    </tr>\n",
       "    <tr>\n",
       "      <th>1</th>\n",
       "      <td>IRQ58259</td>\n",
       "      <td>23 August 2024</td>\n",
       "      <td>2024</td>\n",
       "      <td>1</td>\n",
       "      <td>Political violence</td>\n",
       "      <td>Explosions/Remote violence</td>\n",
       "      <td>Air/drone strike</td>\n",
       "      <td>Military Forces of Turkey (2016-)</td>\n",
       "      <td>NaN</td>\n",
       "      <td>8</td>\n",
       "      <td>...</td>\n",
       "      <td>Gire Bahar</td>\n",
       "      <td>37.0992</td>\n",
       "      <td>43.6066</td>\n",
       "      <td>2</td>\n",
       "      <td>ANF News</td>\n",
       "      <td>International</td>\n",
       "      <td>On 23 August 2024, Turkish army warplanes carr...</td>\n",
       "      <td>0</td>\n",
       "      <td>NaN</td>\n",
       "      <td>1724706546</td>\n",
       "    </tr>\n",
       "    <tr>\n",
       "      <th>2</th>\n",
       "      <td>MEX91579</td>\n",
       "      <td>23 August 2024</td>\n",
       "      <td>2024</td>\n",
       "      <td>1</td>\n",
       "      <td>Strategic developments</td>\n",
       "      <td>Strategic developments</td>\n",
       "      <td>Looting/property destruction</td>\n",
       "      <td>Military Forces of Mexico (2018-)</td>\n",
       "      <td>NaN</td>\n",
       "      <td>1</td>\n",
       "      <td>...</td>\n",
       "      <td>Coast of Colima</td>\n",
       "      <td>18.9474</td>\n",
       "      <td>-104.3941</td>\n",
       "      <td>3</td>\n",
       "      <td>MiMorelia</td>\n",
       "      <td>National</td>\n",
       "      <td>Property destruction: On 23 August 2024, off t...</td>\n",
       "      <td>0</td>\n",
       "      <td>NaN</td>\n",
       "      <td>1724706548</td>\n",
       "    </tr>\n",
       "    <tr>\n",
       "      <th>3</th>\n",
       "      <td>MEX91580</td>\n",
       "      <td>23 August 2024</td>\n",
       "      <td>2024</td>\n",
       "      <td>1</td>\n",
       "      <td>Strategic developments</td>\n",
       "      <td>Strategic developments</td>\n",
       "      <td>Looting/property destruction</td>\n",
       "      <td>Military Forces of Mexico (2018-)</td>\n",
       "      <td>NaN</td>\n",
       "      <td>1</td>\n",
       "      <td>...</td>\n",
       "      <td>Coast of Michoacan</td>\n",
       "      <td>18.0052</td>\n",
       "      <td>-103.3520</td>\n",
       "      <td>2</td>\n",
       "      <td>MiMorelia</td>\n",
       "      <td>Subnational</td>\n",
       "      <td>Property destruction: On 23 August 2024, off t...</td>\n",
       "      <td>0</td>\n",
       "      <td>NaN</td>\n",
       "      <td>1724706548</td>\n",
       "    </tr>\n",
       "    <tr>\n",
       "      <th>4</th>\n",
       "      <td>LBN23478</td>\n",
       "      <td>23 August 2024</td>\n",
       "      <td>2024</td>\n",
       "      <td>1</td>\n",
       "      <td>Political violence</td>\n",
       "      <td>Explosions/Remote violence</td>\n",
       "      <td>Shelling/artillery/missile attack</td>\n",
       "      <td>Military Forces of Israel (2022-)</td>\n",
       "      <td>NaN</td>\n",
       "      <td>8</td>\n",
       "      <td>...</td>\n",
       "      <td>Tallit el Azziye</td>\n",
       "      <td>33.2930</td>\n",
       "      <td>35.5419</td>\n",
       "      <td>1</td>\n",
       "      <td>Liveuamap; National News Agency Lebanon; Telegram</td>\n",
       "      <td>Local partner-New media</td>\n",
       "      <td>On 23 August 2024, the Israeli military fired ...</td>\n",
       "      <td>0</td>\n",
       "      <td>NaN</td>\n",
       "      <td>1724706549</td>\n",
       "    </tr>\n",
       "  </tbody>\n",
       "</table>\n",
       "<p>5 rows × 31 columns</p>\n",
       "</div>"
      ],
      "text/plain": [
       "  event_id_cnty      event_date  year  time_precision           disorder_type  \\\n",
       "0      IRQ58256  23 August 2024  2024               1      Political violence   \n",
       "1      IRQ58259  23 August 2024  2024               1      Political violence   \n",
       "2      MEX91579  23 August 2024  2024               1  Strategic developments   \n",
       "3      MEX91580  23 August 2024  2024               1  Strategic developments   \n",
       "4      LBN23478  23 August 2024  2024               1      Political violence   \n",
       "\n",
       "                   event_type                     sub_event_type  \\\n",
       "0  Explosions/Remote violence                   Air/drone strike   \n",
       "1  Explosions/Remote violence                   Air/drone strike   \n",
       "2      Strategic developments       Looting/property destruction   \n",
       "3      Strategic developments       Looting/property destruction   \n",
       "4  Explosions/Remote violence  Shelling/artillery/missile attack   \n",
       "\n",
       "                              actor1 assoc_actor_1  inter1  ...  \\\n",
       "0  Military Forces of Turkey (2016-)           NaN       8  ...   \n",
       "1  Military Forces of Turkey (2016-)           NaN       8  ...   \n",
       "2  Military Forces of Mexico (2018-)           NaN       1  ...   \n",
       "3  Military Forces of Mexico (2018-)           NaN       1  ...   \n",
       "4  Military Forces of Israel (2022-)           NaN       8  ...   \n",
       "\n",
       "             location latitude  longitude  geo_precision  \\\n",
       "0         Jabal Matin  37.1071    43.5172              2   \n",
       "1          Gire Bahar  37.0992    43.6066              2   \n",
       "2     Coast of Colima  18.9474  -104.3941              3   \n",
       "3  Coast of Michoacan  18.0052  -103.3520              2   \n",
       "4    Tallit el Azziye  33.2930    35.5419              1   \n",
       "\n",
       "                                              source             source_scale  \\\n",
       "0                            Baghdad Today; ROJ News        National-Regional   \n",
       "1                                           ANF News            International   \n",
       "2                                          MiMorelia                 National   \n",
       "3                                          MiMorelia              Subnational   \n",
       "4  Liveuamap; National News Agency Lebanon; Telegram  Local partner-New media   \n",
       "\n",
       "                                               notes fatalities tags  \\\n",
       "0  On 23 August 2024, Turkish army warplanes cari...          0  NaN   \n",
       "1  On 23 August 2024, Turkish army warplanes carr...          0  NaN   \n",
       "2  Property destruction: On 23 August 2024, off t...          0  NaN   \n",
       "3  Property destruction: On 23 August 2024, off t...          0  NaN   \n",
       "4  On 23 August 2024, the Israeli military fired ...          0  NaN   \n",
       "\n",
       "    timestamp  \n",
       "0  1724706546  \n",
       "1  1724706546  \n",
       "2  1724706548  \n",
       "3  1724706548  \n",
       "4  1724706549  \n",
       "\n",
       "[5 rows x 31 columns]"
      ]
     },
     "execution_count": 8,
     "metadata": {},
     "output_type": "execute_result"
    }
   ],
   "source": [
    "print(all_data.head()[\"notes\"][0])\n",
    "all_data.head()"
   ]
  },
  {
   "cell_type": "code",
   "execution_count": 9,
   "metadata": {},
   "outputs": [
    {
     "name": "stdout",
     "output_type": "stream",
     "text": [
      "event_id_cnty\n",
      "event_date\n",
      "year\n",
      "time_precision\n",
      "disorder_type\n",
      "event_type\n",
      "sub_event_type\n",
      "actor1\n",
      "assoc_actor_1\n",
      "inter1\n",
      "actor2\n",
      "assoc_actor_2\n",
      "inter2\n",
      "interaction\n",
      "civilian_targeting\n",
      "iso\n",
      "region\n",
      "country\n",
      "admin1\n",
      "admin2\n",
      "admin3\n",
      "location\n",
      "latitude\n",
      "longitude\n",
      "geo_precision\n",
      "source\n",
      "source_scale\n",
      "notes\n",
      "fatalities\n",
      "tags\n",
      "timestamp\n"
     ]
    }
   ],
   "source": [
    "for column in all_data:\n",
    "    print(column)"
   ]
  },
  {
   "cell_type": "code",
   "execution_count": 7,
   "metadata": {},
   "outputs": [
    {
     "data": {
      "text/plain": [
       "array(['Iraq', 'Mexico', 'Lebanon', 'Yemen', 'Angola', 'Argentina',\n",
       "       'Burkina Faso', 'Bahrain', 'Belize', 'Bolivia', 'Brazil',\n",
       "       'Cameroon', 'Colombia', 'Ethiopia', 'Honduras', 'Iran', 'Israel',\n",
       "       'Jamaica', 'Jordan', 'Kenya', 'Mauritania', 'Morocco', 'Nigeria',\n",
       "       'Paraguay', 'Peru', 'Palestine', 'South Africa', 'Somalia',\n",
       "       'Sudan', 'Syria', 'Tanzania', 'Turkey', 'Venezuela', 'Bulgaria',\n",
       "       'Australia', 'Austria', 'Bangladesh', 'Canada', 'Germany', 'Spain',\n",
       "       'France', 'Croatia', 'Indonesia', 'India', 'Ireland', 'Italy',\n",
       "       'Kazakhstan', 'South Korea', 'Maldives', 'Myanmar', 'Montenegro',\n",
       "       'Nepal', 'Pakistan', 'Romania', 'Russia', 'Serbia', 'Sweden',\n",
       "       'Taiwan', 'Ukraine', 'United States', 'Chile', 'Costa Rica',\n",
       "       'Dominican Republic', 'Democratic Republic of Congo', 'Ecuador',\n",
       "       'Egypt', 'Guinea', 'Liberia', 'Libya', 'Madagascar', 'Mali',\n",
       "       'Mozambique', 'Niger', 'Panama', 'South Sudan',\n",
       "       'Trinidad and Tobago', 'Tunisia', 'Uganda', 'Afghanistan',\n",
       "       'Albania', 'Armenia', 'Belgium', 'Bosnia and Herzegovina',\n",
       "       'United Kingdom', 'Hungary', 'Japan', 'Kyrgyzstan', 'Malaysia',\n",
       "       'Norway', 'Philippines', 'Portugal', 'Sri Lanka', 'Slovenia',\n",
       "       'Thailand', 'Ivory Coast', 'Central African Republic', 'Guatemala',\n",
       "       'Haiti', 'Belarus', 'Czech Republic', 'Georgia', 'North Macedonia',\n",
       "       'Netherlands', 'Papua New Guinea', 'Poland', 'Reunion',\n",
       "       'Uzbekistan', 'Ghana', 'Mauritius', 'Denmark', 'Greece', 'Mayotte',\n",
       "       'New Zealand', 'Burundi', 'Senegal', 'Switzerland', 'Fiji',\n",
       "       'Guadeloupe', 'Kiribati', 'Lithuania', 'Sint Maarten', 'Algeria',\n",
       "       'Cuba', 'Malawi', 'Saudi Arabia', 'Azerbaijan', 'New Caledonia',\n",
       "       'Chad', 'Namibia', 'Puerto Rico', 'Zimbabwe', 'China', 'Finland',\n",
       "       'Iceland', 'El Salvador', 'Cyprus', 'Cambodia', 'Moldova', 'Malta',\n",
       "       'Kosovo', 'Nicaragua', 'Togo', 'French Polynesia', 'Eritrea',\n",
       "       'Slovakia', 'Bahamas', 'Comoros', 'Guinea-Bissau', 'Benin',\n",
       "       'Bhutan', 'Seychelles', 'Cape Verde', 'Suriname', 'Guam',\n",
       "       'Luxembourg', 'Mongolia', 'Guyana', 'Sao Tome and Principe',\n",
       "       'North Korea', 'Martinique', 'eSwatini', 'French Guiana',\n",
       "       'East Timor', 'Gabon', 'Uruguay', 'Zambia', 'Greenland', 'Vietnam',\n",
       "       'United Arab Emirates', 'Oman', 'Antigua and Barbuda', 'Estonia',\n",
       "       'Gambia', 'Latvia', 'Saint-Barthelemy',\n",
       "       'Saint Pierre and Miquelon', 'Wallis and Futuna', 'Lesotho',\n",
       "       'Kuwait', 'Tajikistan', 'Saint Lucia', 'Sierra Leone',\n",
       "       'Republic of Congo', 'Monaco', 'Bermuda', 'Djibouti', 'Vanuatu',\n",
       "       'Rwanda', 'Northern Mariana Islands', 'Curacao', 'Anguilla',\n",
       "       'Antarctica', 'Saint-Martin', 'Solomon Islands',\n",
       "       'Bailiwick of Guernsey', 'Botswana', 'Faroe Islands', 'San Marino',\n",
       "       'Dominica', 'Andorra', 'Liechtenstein', 'Marshall Islands',\n",
       "       'Vatican City', 'Singapore', 'Barbados',\n",
       "       'Saint Vincent and the Grenadines', 'Tuvalu', 'Samoa', 'Qatar',\n",
       "       'Turkmenistan', 'Grenada', 'Turks and Caicos Islands', 'Brunei',\n",
       "       'Aruba', 'Nauru'], dtype=object)"
      ]
     },
     "execution_count": 7,
     "metadata": {},
     "output_type": "execute_result"
    }
   ],
   "source": [
    "all_data['country'].unique()"
   ]
  },
  {
   "cell_type": "code",
   "execution_count": 24,
   "metadata": {},
   "outputs": [
    {
     "data": {
      "text/plain": [
       "9136"
      ]
     },
     "execution_count": 24,
     "metadata": {},
     "output_type": "execute_result"
    }
   ],
   "source": [
    "yemen_rows = all_data[all_data[\"country\"] == \"Yemen\"]\n",
    "us_rows = all_data[all_data[\"country\"] == \"United States\"]\n",
    "tanzania_rows = all_data[all_data[\"country\"] == \"Tanzania\"]\n",
    "\n",
    "len(yemen_rows)"
   ]
  },
  {
   "cell_type": "code",
   "execution_count": 25,
   "metadata": {},
   "outputs": [
    {
     "name": "stdout",
     "output_type": "stream",
     "text": [
      "Total Fatalities in Yemen: 2118\n",
      "Total Fatalities in the USA: 32\n",
      "Total Fatalities in Tanzania: 21\n"
     ]
    }
   ],
   "source": [
    "print(f\"Total Fatalities in Yemen: {yemen_rows['fatalities'].sum()}\")\n",
    "\n",
    "print(f\"Total Fatalities in the USA: {us_rows['fatalities'].sum()}\")\n",
    "\n",
    "print(f\"Total Fatalities in Tanzania: {tanzania_rows['fatalities'].sum()}\")"
   ]
  },
  {
   "cell_type": "code",
   "execution_count": 20,
   "metadata": {},
   "outputs": [
    {
     "name": "stdout",
     "output_type": "stream",
     "text": [
      "Yes\n"
     ]
    }
   ],
   "source": [
    "scs_countries = [\"China\", \"Philippines\", \"Vietnam\", \"Taiwan\",\"Brunei\", \"Indonesia\", \"Malaysia\"]\n",
    "\n",
    "if \"Taiwan\" in all_data['country'].unique():\n",
    "    print(\"Yes\")"
   ]
  }
 ],
 "metadata": {
  "kernelspec": {
   "display_name": "base",
   "language": "python",
   "name": "python3"
  },
  "language_info": {
   "codemirror_mode": {
    "name": "ipython",
    "version": 3
   },
   "file_extension": ".py",
   "mimetype": "text/x-python",
   "name": "python",
   "nbconvert_exporter": "python",
   "pygments_lexer": "ipython3",
   "version": "3.11.9"
  }
 },
 "nbformat": 4,
 "nbformat_minor": 2
}
